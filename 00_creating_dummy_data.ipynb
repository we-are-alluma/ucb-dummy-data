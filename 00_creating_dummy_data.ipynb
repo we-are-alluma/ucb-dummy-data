{
 "cells": [
  {
   "cell_type": "markdown",
   "id": "roman-friend",
   "metadata": {},
   "source": [
    "# Creating a dummy dataset\n",
    "\n",
    "As we wait for the _real_ data to be pulled we can create a dummy database or datasets off of what we know. \n",
    "\n",
    "In the data pull request we asked for 5 tables:\n",
    "- clients\n",
    "- organizations\n",
    "- locations\n",
    "- opportunities\n",
    "- access_events\n",
    "\n",
    "You can see the variables/columns we ask of each table in the google sheet `Data schema/UCB data pull` in our shared Google Drive.\n",
    "\n",
    "We will be using a combination of pandas/numpy and Faker to create these."
   ]
  },
  {
   "cell_type": "code",
   "execution_count": 16,
   "id": "animated-delivery",
   "metadata": {},
   "outputs": [],
   "source": [
    "import pandas as pd\n",
    "import numpy as np\n",
    "from faker import Faker\n",
    "import datetime as dt\n",
    "\n",
    "fake = Faker()"
   ]
  },
  {
   "cell_type": "markdown",
   "id": "illegal-cathedral",
   "metadata": {},
   "source": [
    "## clients\n",
    "\n",
    "* id (INT11)\n",
    "* is_admin (TINYINT1)\n",
    "* created_at (DATETIME)\n",
    "* updated_at (DATETIME)\n",
    "* last_login (DATETIME)\n",
    "\n",
    "This means we have an 11-character long INT column, another 1-character long (1/0) that serves as a boolean column, and 3 datetimes. The most complicated part is the datetimes. `updated_at` has to come later or at the same time as `created_at` (cannot be earlier) and last login must also come **after** `created_at`."
   ]
  },
  {
   "cell_type": "code",
   "execution_count": 28,
   "id": "irish-multimedia",
   "metadata": {},
   "outputs": [
    {
     "data": {
      "text/plain": [
       "array([53068371121, 55856732757, 53580875532, 41393188944, 61862458655,\n",
       "       19965061455, 34081428847, 43382562265, 96677197701, 56419189895,\n",
       "       20486189041, 92956547716, 12447474077, 57679041850, 27878828471,\n",
       "       95281492829, 59001664775, 35512086529, 45117692169, 84003369606,\n",
       "       28019716997, 90403410370, 24692282347, 66350551499, 86764307210,\n",
       "       98628418097, 82607429373, 43168181756, 75505419126, 29679835518,\n",
       "       42777655781, 97565632436, 80947904478, 13856973767, 17570065541,\n",
       "       80812130250, 41183877799, 89301812608, 73291893139, 82179931791,\n",
       "       63663002445, 40674822994, 73106357515, 66075792549, 68808331494,\n",
       "       77186625461, 10062939849, 31866050603, 13732341874, 18412432313])"
      ]
     },
     "execution_count": 28,
     "metadata": {},
     "output_type": "execute_result"
    }
   ],
   "source": [
    "client_id = np.random.randint(low = 10_000_000_000, high = 99_999_999_999, size = 50)\n",
    "client_id"
   ]
  },
  {
   "cell_type": "code",
   "execution_count": 29,
   "id": "reliable-forum",
   "metadata": {},
   "outputs": [
    {
     "data": {
      "text/plain": [
       "array([1, 0, 1, 0, 1, 1, 0, 0, 0, 1, 1, 0, 1, 1, 0, 0, 1, 1, 0, 1, 1, 0,\n",
       "       1, 0, 0, 1, 0, 0, 1, 1, 1, 0, 1, 1, 0, 0, 0, 0, 0, 0, 0, 1, 0, 0,\n",
       "       1, 0, 0, 0, 1, 0])"
      ]
     },
     "execution_count": 29,
     "metadata": {},
     "output_type": "execute_result"
    }
   ],
   "source": [
    "client_is_admin = np.random.randint(low = 0, high = 2, size = 50)\n",
    "client_is_admin"
   ]
  },
  {
   "cell_type": "code",
   "execution_count": 30,
   "id": "finnish-eating",
   "metadata": {},
   "outputs": [],
   "source": [
    "client_created_at = []\n",
    "for _ in range(50):\n",
    "    client_created_at.append(fake.date_time_between_dates(datetime_start = dt.datetime(2019,1,1), datetime_end = dt.datetime(2021,3,1)))"
   ]
  },
  {
   "cell_type": "code",
   "execution_count": 31,
   "id": "graduate-recall",
   "metadata": {},
   "outputs": [],
   "source": [
    "# updated at must come after `created_at`\n",
    "client_updated_at = []\n",
    "for date_created in client_created_at:\n",
    "    client_updated_at.append(fake.date_time_between_dates(datetime_start = date_created, datetime_end = dt.datetime(2021,3,1)))"
   ]
  },
  {
   "cell_type": "code",
   "execution_count": 32,
   "id": "present-trust",
   "metadata": {},
   "outputs": [],
   "source": [
    "# let's make all last logins *after* updated_at\n",
    "client_last_login = []\n",
    "for date_updated in client_updated_at:\n",
    "    client_last_login.append(fake.date_time_between_dates(datetime_start = date_updated, datetime_end = dt.datetime(2021,3,1)))"
   ]
  },
  {
   "cell_type": "code",
   "execution_count": 33,
   "id": "indirect-hazard",
   "metadata": {},
   "outputs": [
    {
     "data": {
      "text/html": [
       "<div>\n",
       "<style scoped>\n",
       "    .dataframe tbody tr th:only-of-type {\n",
       "        vertical-align: middle;\n",
       "    }\n",
       "\n",
       "    .dataframe tbody tr th {\n",
       "        vertical-align: top;\n",
       "    }\n",
       "\n",
       "    .dataframe thead th {\n",
       "        text-align: right;\n",
       "    }\n",
       "</style>\n",
       "<table border=\"1\" class=\"dataframe\">\n",
       "  <thead>\n",
       "    <tr style=\"text-align: right;\">\n",
       "      <th></th>\n",
       "      <th>id</th>\n",
       "      <th>is_admin</th>\n",
       "      <th>created_at</th>\n",
       "      <th>updated_at</th>\n",
       "      <th>last_login</th>\n",
       "    </tr>\n",
       "  </thead>\n",
       "  <tbody>\n",
       "    <tr>\n",
       "      <th>0</th>\n",
       "      <td>53068371121</td>\n",
       "      <td>1</td>\n",
       "      <td>2020-09-06 02:36:26</td>\n",
       "      <td>2020-11-27 23:23:58</td>\n",
       "      <td>2020-11-28 01:11:11</td>\n",
       "    </tr>\n",
       "    <tr>\n",
       "      <th>1</th>\n",
       "      <td>55856732757</td>\n",
       "      <td>0</td>\n",
       "      <td>2019-07-19 04:15:58</td>\n",
       "      <td>2020-12-09 01:23:06</td>\n",
       "      <td>2020-12-24 09:24:34</td>\n",
       "    </tr>\n",
       "    <tr>\n",
       "      <th>2</th>\n",
       "      <td>53580875532</td>\n",
       "      <td>1</td>\n",
       "      <td>2020-12-31 05:13:50</td>\n",
       "      <td>2021-01-27 20:07:30</td>\n",
       "      <td>2021-02-18 16:48:34</td>\n",
       "    </tr>\n",
       "    <tr>\n",
       "      <th>3</th>\n",
       "      <td>41393188944</td>\n",
       "      <td>0</td>\n",
       "      <td>2020-07-08 05:14:42</td>\n",
       "      <td>2020-11-05 02:06:55</td>\n",
       "      <td>2020-12-28 00:57:57</td>\n",
       "    </tr>\n",
       "    <tr>\n",
       "      <th>4</th>\n",
       "      <td>61862458655</td>\n",
       "      <td>1</td>\n",
       "      <td>2020-06-30 20:41:33</td>\n",
       "      <td>2020-11-22 07:59:46</td>\n",
       "      <td>2020-12-18 16:20:36</td>\n",
       "    </tr>\n",
       "  </tbody>\n",
       "</table>\n",
       "</div>"
      ],
      "text/plain": [
       "            id  is_admin          created_at          updated_at  \\\n",
       "0  53068371121         1 2020-09-06 02:36:26 2020-11-27 23:23:58   \n",
       "1  55856732757         0 2019-07-19 04:15:58 2020-12-09 01:23:06   \n",
       "2  53580875532         1 2020-12-31 05:13:50 2021-01-27 20:07:30   \n",
       "3  41393188944         0 2020-07-08 05:14:42 2020-11-05 02:06:55   \n",
       "4  61862458655         1 2020-06-30 20:41:33 2020-11-22 07:59:46   \n",
       "\n",
       "           last_login  \n",
       "0 2020-11-28 01:11:11  \n",
       "1 2020-12-24 09:24:34  \n",
       "2 2021-02-18 16:48:34  \n",
       "3 2020-12-28 00:57:57  \n",
       "4 2020-12-18 16:20:36  "
      ]
     },
     "execution_count": 33,
     "metadata": {},
     "output_type": "execute_result"
    }
   ],
   "source": [
    "clients_df = pd.DataFrame(data = {\n",
    "    \"id\": client_id, \n",
    "    \"is_admin\": client_is_admin, \n",
    "    \"created_at\": client_created_at, \n",
    "    \"updated_at\": client_updated_at, \n",
    "    \"last_login\": client_last_login\n",
    "})\n",
    "\n",
    "clients_df.head()"
   ]
  },
  {
   "cell_type": "markdown",
   "id": "conservative-structure",
   "metadata": {},
   "source": [
    "***\n",
    "## organizations\n",
    "\n",
    "* id INT(11)\n",
    "* client_id INT(11)\n",
    "* name VARCHAR(255)\n",
    "* website VARCHAR(255)\n",
    "* description MEDIUMTEXT\n",
    "* created_at DATETIME\n",
    "* updated_at DATETIME\n",
    "* slug VARCHAR(255)\n",
    "* searchable_by_organizations VARCHAR(255)\n",
    "* is_searchable TINYINT(1)\n",
    "* region VARCHAR(255)\n",
    "* lat FLOAT\n",
    "* lng FLOAT\n",
    "* last_verified_at DATETIME\n",
    "* marked_deleted TINYINT(1)\n",
    "* deleter_id INT(11)\n",
    "* is_closed TINYINT(1)"
   ]
  },
  {
   "cell_type": "code",
   "execution_count": 38,
   "id": "controlling-spelling",
   "metadata": {},
   "outputs": [
    {
     "data": {
      "text/plain": [
       "array([76327319801, 78137121915, 84507898569, 22722476147, 95965357062,\n",
       "       19864305342, 39673701505, 44734027201, 19301973909, 73246013987,\n",
       "       99084709007, 13976104711, 72911050290, 31385758129, 87084250879,\n",
       "       71113519379, 69603878938, 51493858704, 75512547632, 71642210292,\n",
       "       41086704619, 47999295923, 39264351350, 35767394379, 84345654591,\n",
       "       76619893204, 41632819120, 40441536909, 47385103929, 98227539971,\n",
       "       95583944326, 20542405451, 82452590146, 35175178253, 14471430655,\n",
       "       32835652572, 44440361480, 28306186016, 81840431545, 43669106666,\n",
       "       26542744947, 92457716673, 86770472243, 19722145381, 91725481147,\n",
       "       19954489250, 28965888958, 40941740635, 62816989785, 87353385757])"
      ]
     },
     "execution_count": 38,
     "metadata": {},
     "output_type": "execute_result"
    }
   ],
   "source": [
    "org_id = np.random.randint(low = 10_000_000_000, high = 99_999_999_999, size = 50)\n",
    "org_id"
   ]
  },
  {
   "cell_type": "code",
   "execution_count": 39,
   "id": "substantial-fifteen",
   "metadata": {},
   "outputs": [],
   "source": [
    "org_client_id = client_id"
   ]
  },
  {
   "cell_type": "code",
   "execution_count": 40,
   "id": "catholic-respect",
   "metadata": {},
   "outputs": [],
   "source": [
    "org_name = []\n",
    "for _ in range(50):\n",
    "    org_name.append(fake.company())"
   ]
  },
  {
   "cell_type": "code",
   "execution_count": 41,
   "id": "sacred-charlotte",
   "metadata": {},
   "outputs": [],
   "source": [
    "org_website = []\n",
    "for _ in range(50):\n",
    "    org_website.append(fake.domain_name())"
   ]
  },
  {
   "cell_type": "code",
   "execution_count": 42,
   "id": "broken-bleeding",
   "metadata": {},
   "outputs": [],
   "source": [
    "org_description = []\n",
    "for _ in range(50):\n",
    "    org_description.append(fake.paragraph())"
   ]
  },
  {
   "cell_type": "code",
   "execution_count": 43,
   "id": "warming-privacy",
   "metadata": {},
   "outputs": [],
   "source": [
    "org_created_at = []\n",
    "for _ in range(50):\n",
    "    org_created_at.append(fake.date_time_between_dates(datetime_start = dt.datetime(2019,1,1), datetime_end = dt.datetime(2021,3,1)))"
   ]
  },
  {
   "cell_type": "code",
   "execution_count": 44,
   "id": "functional-variance",
   "metadata": {},
   "outputs": [],
   "source": [
    "# updated at must come after `created_at`\n",
    "org_updated_at = []\n",
    "for date_created in client_created_at:\n",
    "    org_updated_at.append(fake.date_time_between_dates(datetime_start = date_created, datetime_end = dt.datetime(2021,3,1)))"
   ]
  },
  {
   "cell_type": "code",
   "execution_count": 47,
   "id": "dated-adult",
   "metadata": {},
   "outputs": [],
   "source": [
    "org_slug = [name.replace(\" \", \"_\").replace(\",\", \"\").lower() for name in org_name]"
   ]
  },
  {
   "cell_type": "code",
   "execution_count": 49,
   "id": "freelance-patient",
   "metadata": {},
   "outputs": [],
   "source": [
    "org_searchable_by_organizations = []\n",
    "for _ in range(50):\n",
    "    org_searchable_by_organizations.append(fake.paragraph())"
   ]
  },
  {
   "cell_type": "code",
   "execution_count": 51,
   "id": "rising-television",
   "metadata": {},
   "outputs": [],
   "source": [
    "org_is_searchable = np.random.randint(low = 0, high = 2, size = 50)"
   ]
  },
  {
   "cell_type": "code",
   "execution_count": 54,
   "id": "responsible-romance",
   "metadata": {},
   "outputs": [],
   "source": [
    "org_region = [\"Los Angeles\"] * 50"
   ]
  },
  {
   "cell_type": "code",
   "execution_count": 55,
   "id": "excellent-jefferson",
   "metadata": {},
   "outputs": [],
   "source": [
    "org_lat = []\n",
    "org_lng = []\n",
    "for _ in range(50):\n",
    "    org_lat.append(fake.latitude())\n",
    "    org_lng.append(fake.longitude())"
   ]
  },
  {
   "cell_type": "code",
   "execution_count": 57,
   "id": "dominican-architect",
   "metadata": {},
   "outputs": [],
   "source": [
    "# last verified - in the past year\n",
    "org_last_verified = []\n",
    "for _ in range(50):\n",
    "    org_last_verified.append(fake.date_time_between_dates(datetime_start = dt.datetime(2020,3,1), datetime_end = dt.datetime(2021,3,1)))"
   ]
  },
  {
   "cell_type": "code",
   "execution_count": 58,
   "id": "coral-pittsburgh",
   "metadata": {},
   "outputs": [],
   "source": [
    "org_marked_deleted = np.random.randint(low = 0, high = 2, size = 50)"
   ]
  },
  {
   "cell_type": "code",
   "execution_count": 60,
   "id": "accompanied-astronomy",
   "metadata": {},
   "outputs": [],
   "source": [
    "org_deleter_id = np.random.randint(low = 10_000_000_000, high = 99_999_999_999, size = 50)"
   ]
  },
  {
   "cell_type": "code",
   "execution_count": 59,
   "id": "motivated-hopkins",
   "metadata": {},
   "outputs": [],
   "source": [
    "org_is_closed = np.random.randint(low = 0, high = 2, size = 50)"
   ]
  },
  {
   "cell_type": "code",
   "execution_count": 62,
   "id": "searching-internet",
   "metadata": {},
   "outputs": [
    {
     "data": {
      "text/html": [
       "<div>\n",
       "<style scoped>\n",
       "    .dataframe tbody tr th:only-of-type {\n",
       "        vertical-align: middle;\n",
       "    }\n",
       "\n",
       "    .dataframe tbody tr th {\n",
       "        vertical-align: top;\n",
       "    }\n",
       "\n",
       "    .dataframe thead th {\n",
       "        text-align: right;\n",
       "    }\n",
       "</style>\n",
       "<table border=\"1\" class=\"dataframe\">\n",
       "  <thead>\n",
       "    <tr style=\"text-align: right;\">\n",
       "      <th></th>\n",
       "      <th>id</th>\n",
       "      <th>client_id</th>\n",
       "      <th>name</th>\n",
       "      <th>website</th>\n",
       "      <th>description</th>\n",
       "      <th>created_at</th>\n",
       "      <th>updated_at</th>\n",
       "      <th>slug</th>\n",
       "      <th>searchable_by_organizations</th>\n",
       "      <th>is_searchable</th>\n",
       "      <th>region</th>\n",
       "      <th>lat</th>\n",
       "      <th>lng</th>\n",
       "      <th>last_verified_at</th>\n",
       "      <th>marked_deleted</th>\n",
       "      <th>deleter_id</th>\n",
       "      <th>is_closed</th>\n",
       "    </tr>\n",
       "  </thead>\n",
       "  <tbody>\n",
       "    <tr>\n",
       "      <th>0</th>\n",
       "      <td>76327319801</td>\n",
       "      <td>53068371121</td>\n",
       "      <td>Klein LLC</td>\n",
       "      <td>jenkins.com</td>\n",
       "      <td>Prepare move role culture. Campaign power bag ...</td>\n",
       "      <td>2019-03-15 02:39:25</td>\n",
       "      <td>2021-01-05 19:49:03</td>\n",
       "      <td>klein_llc</td>\n",
       "      <td>Turn federal discussion although air level coa...</td>\n",
       "      <td>0</td>\n",
       "      <td>Los Angeles</td>\n",
       "      <td>40.897703</td>\n",
       "      <td>178.944637</td>\n",
       "      <td>2020-05-13 21:49:08</td>\n",
       "      <td>0</td>\n",
       "      <td>41984010408</td>\n",
       "      <td>0</td>\n",
       "    </tr>\n",
       "    <tr>\n",
       "      <th>1</th>\n",
       "      <td>78137121915</td>\n",
       "      <td>55856732757</td>\n",
       "      <td>Moore, Murray and Carpenter</td>\n",
       "      <td>stevenson.com</td>\n",
       "      <td>Next lead west air trial end. Know real act ot...</td>\n",
       "      <td>2019-03-16 09:35:51</td>\n",
       "      <td>2020-10-20 08:08:33</td>\n",
       "      <td>moore_murray_and_carpenter</td>\n",
       "      <td>Parent bring bag provide picture their alone. ...</td>\n",
       "      <td>1</td>\n",
       "      <td>Los Angeles</td>\n",
       "      <td>82.811515</td>\n",
       "      <td>-51.115769</td>\n",
       "      <td>2020-06-12 18:03:58</td>\n",
       "      <td>1</td>\n",
       "      <td>62259441723</td>\n",
       "      <td>1</td>\n",
       "    </tr>\n",
       "    <tr>\n",
       "      <th>2</th>\n",
       "      <td>84507898569</td>\n",
       "      <td>53580875532</td>\n",
       "      <td>Cook, Massey and Ross</td>\n",
       "      <td>hamilton.org</td>\n",
       "      <td>Ok imagine since spring whom eight building. R...</td>\n",
       "      <td>2019-07-03 01:26:21</td>\n",
       "      <td>2021-02-09 20:05:04</td>\n",
       "      <td>cook_massey_and_ross</td>\n",
       "      <td>Seven report forget conference office analysis...</td>\n",
       "      <td>0</td>\n",
       "      <td>Los Angeles</td>\n",
       "      <td>81.5554735</td>\n",
       "      <td>55.015759</td>\n",
       "      <td>2021-02-15 17:45:23</td>\n",
       "      <td>0</td>\n",
       "      <td>11147866092</td>\n",
       "      <td>1</td>\n",
       "    </tr>\n",
       "    <tr>\n",
       "      <th>3</th>\n",
       "      <td>22722476147</td>\n",
       "      <td>41393188944</td>\n",
       "      <td>Tucker, Brown and Martin</td>\n",
       "      <td>williams.com</td>\n",
       "      <td>Finally culture fight answer rate left include...</td>\n",
       "      <td>2019-08-15 08:06:14</td>\n",
       "      <td>2020-12-27 15:38:39</td>\n",
       "      <td>tucker_brown_and_martin</td>\n",
       "      <td>Page general evening popular ago door whatever...</td>\n",
       "      <td>1</td>\n",
       "      <td>Los Angeles</td>\n",
       "      <td>70.7408555</td>\n",
       "      <td>40.202486</td>\n",
       "      <td>2021-01-30 16:09:28</td>\n",
       "      <td>0</td>\n",
       "      <td>63584434937</td>\n",
       "      <td>0</td>\n",
       "    </tr>\n",
       "    <tr>\n",
       "      <th>4</th>\n",
       "      <td>95965357062</td>\n",
       "      <td>61862458655</td>\n",
       "      <td>Kent Inc</td>\n",
       "      <td>hughes.com</td>\n",
       "      <td>Its pass home. Chance we new talk help. Econom...</td>\n",
       "      <td>2019-05-22 17:12:09</td>\n",
       "      <td>2020-08-01 17:23:18</td>\n",
       "      <td>kent_inc</td>\n",
       "      <td>Occur computer sure. Establish per can.</td>\n",
       "      <td>0</td>\n",
       "      <td>Los Angeles</td>\n",
       "      <td>0.2406745</td>\n",
       "      <td>77.319157</td>\n",
       "      <td>2020-12-12 07:34:22</td>\n",
       "      <td>1</td>\n",
       "      <td>17830292638</td>\n",
       "      <td>1</td>\n",
       "    </tr>\n",
       "  </tbody>\n",
       "</table>\n",
       "</div>"
      ],
      "text/plain": [
       "            id    client_id                         name        website  \\\n",
       "0  76327319801  53068371121                    Klein LLC    jenkins.com   \n",
       "1  78137121915  55856732757  Moore, Murray and Carpenter  stevenson.com   \n",
       "2  84507898569  53580875532        Cook, Massey and Ross   hamilton.org   \n",
       "3  22722476147  41393188944     Tucker, Brown and Martin   williams.com   \n",
       "4  95965357062  61862458655                     Kent Inc     hughes.com   \n",
       "\n",
       "                                         description          created_at  \\\n",
       "0  Prepare move role culture. Campaign power bag ... 2019-03-15 02:39:25   \n",
       "1  Next lead west air trial end. Know real act ot... 2019-03-16 09:35:51   \n",
       "2  Ok imagine since spring whom eight building. R... 2019-07-03 01:26:21   \n",
       "3  Finally culture fight answer rate left include... 2019-08-15 08:06:14   \n",
       "4  Its pass home. Chance we new talk help. Econom... 2019-05-22 17:12:09   \n",
       "\n",
       "           updated_at                        slug  \\\n",
       "0 2021-01-05 19:49:03                   klein_llc   \n",
       "1 2020-10-20 08:08:33  moore_murray_and_carpenter   \n",
       "2 2021-02-09 20:05:04        cook_massey_and_ross   \n",
       "3 2020-12-27 15:38:39     tucker_brown_and_martin   \n",
       "4 2020-08-01 17:23:18                    kent_inc   \n",
       "\n",
       "                         searchable_by_organizations  is_searchable  \\\n",
       "0  Turn federal discussion although air level coa...              0   \n",
       "1  Parent bring bag provide picture their alone. ...              1   \n",
       "2  Seven report forget conference office analysis...              0   \n",
       "3  Page general evening popular ago door whatever...              1   \n",
       "4            Occur computer sure. Establish per can.              0   \n",
       "\n",
       "        region         lat         lng    last_verified_at  marked_deleted  \\\n",
       "0  Los Angeles   40.897703  178.944637 2020-05-13 21:49:08               0   \n",
       "1  Los Angeles   82.811515  -51.115769 2020-06-12 18:03:58               1   \n",
       "2  Los Angeles  81.5554735   55.015759 2021-02-15 17:45:23               0   \n",
       "3  Los Angeles  70.7408555   40.202486 2021-01-30 16:09:28               0   \n",
       "4  Los Angeles   0.2406745   77.319157 2020-12-12 07:34:22               1   \n",
       "\n",
       "    deleter_id  is_closed  \n",
       "0  41984010408          0  \n",
       "1  62259441723          1  \n",
       "2  11147866092          1  \n",
       "3  63584434937          0  \n",
       "4  17830292638          1  "
      ]
     },
     "execution_count": 62,
     "metadata": {},
     "output_type": "execute_result"
    }
   ],
   "source": [
    "organizations_df = pd.DataFrame(data = {\n",
    "    \"id\": org_id,\n",
    "    \"client_id\": org_client_id,\n",
    "    \"name\": org_name,\n",
    "    \"website\": org_website,\n",
    "    \"description\": org_description,\n",
    "    \"created_at\": org_created_at,\n",
    "    \"updated_at\": org_updated_at,\n",
    "    \"slug\": org_slug,\n",
    "    \"searchable_by_organizations\": org_searchable_by_organizations,\n",
    "    \"is_searchable\": org_is_searchable,\n",
    "    \"region\": org_region,\n",
    "    \"lat\": org_lat,\n",
    "    \"lng\": org_lng,\n",
    "    \"last_verified_at\": org_last_verified,\n",
    "    \"marked_deleted\": org_marked_deleted,\n",
    "    \"deleter_id\": org_deleter_id,\n",
    "    \"is_closed\": org_is_closed,\n",
    "})\n",
    "\n",
    "organizations_df.head()"
   ]
  },
  {
   "cell_type": "markdown",
   "id": "reported-knight",
   "metadata": {},
   "source": [
    "***\n",
    "## locations\n",
    "\n",
    "* id INT(11)\n",
    "* locatable_id INT(11)\n",
    "* locatable_type VARCHAR(255)\n",
    "* name VARCHAR(255)\n",
    "* address VARCHAR(255)\n",
    "* unit VARCHAR(255)\n",
    "* city VARCHAR(255)\n",
    "* state VARCHAR(255)\n",
    "* zip_code VARCHAR(255)\n",
    "* is_primary TINYINT(1)\n",
    "* lat FLOAT\n",
    "* long FLOAT\n",
    "* created_at DATETIME\n",
    "* updated_at DATETIME\n",
    "* show_on_organization TINYINT(1)"
   ]
  },
  {
   "cell_type": "code",
   "execution_count": 63,
   "id": "billion-formula",
   "metadata": {},
   "outputs": [],
   "source": [
    "locations_id = np.random.randint(low = 10_000_000_000, high = 99_999_999_999, size = 50)\n",
    "locations_locatable_id = np.random.randint(low = 10_000_000_000, high = 99_999_999_999, size = 50)"
   ]
  },
  {
   "cell_type": "code",
   "execution_count": 65,
   "id": "whole-damage",
   "metadata": {},
   "outputs": [],
   "source": [
    "# We can create multiple lists at the same time to save space/time\n",
    "locations_locatable_id = []\n",
    "locations_name = []\n",
    "for _ in range(50):\n",
    "    locations_locatable_id.append(fake.sentence())\n",
    "    locations_name.append(fake.company())"
   ]
  },
  {
   "cell_type": "code",
   "execution_count": 87,
   "id": "terminal-hamilton",
   "metadata": {},
   "outputs": [],
   "source": [
    "# we can split an address into each of its elements\n",
    "locations_address = []\n",
    "locations_unit = []\n",
    "locations_city = []\n",
    "locations_state = []\n",
    "locations_zip_code = []\n",
    "for _ in range(50):\n",
    "    street_address = fake.street_address()\n",
    "    if \"Suite\" in street_address:\n",
    "        unit = street_address.split(\"Suite\")[-1]\n",
    "    elif \"Apt.\" in street_address:\n",
    "        unit = street_address.split(\"Apt.\")[-1]\n",
    "    else:\n",
    "        unit = \"\"\n",
    "    \n",
    "    locations_address.append(street_address)\n",
    "    locations_unit.append(unit)\n",
    "    locations_city.append(\"Los Angeles\")\n",
    "    locations_state.append(\"CA\")\n",
    "    locations_zip_code.append(fake.postalcode_in_state(state_abbr = \"CA\"))"
   ]
  },
  {
   "cell_type": "code",
   "execution_count": null,
   "id": "surrounded-istanbul",
   "metadata": {},
   "outputs": [],
   "source": []
  }
 ],
 "metadata": {
  "kernelspec": {
   "display_name": "Python 3",
   "language": "python",
   "name": "python3"
  },
  "language_info": {
   "codemirror_mode": {
    "name": "ipython",
    "version": 3
   },
   "file_extension": ".py",
   "mimetype": "text/x-python",
   "name": "python",
   "nbconvert_exporter": "python",
   "pygments_lexer": "ipython3",
   "version": "3.9.2"
  }
 },
 "nbformat": 4,
 "nbformat_minor": 5
}
